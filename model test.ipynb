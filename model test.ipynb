{
 "cells": [
  {
   "cell_type": "code",
   "execution_count": 1,
   "metadata": {
    "collapsed": true,
    "ExecuteTime": {
     "end_time": "2024-01-01T02:33:33.136072700Z",
     "start_time": "2024-01-01T02:33:28.087318300Z"
    }
   },
   "outputs": [],
   "source": [
    "import pandas as pd\n",
    "\n",
    "from pred import modelPipe\n",
    "from tqdm import tqdm"
   ]
  },
  {
   "cell_type": "code",
   "execution_count": 14,
   "outputs": [],
   "source": [
    "basemodel = './basemodel/hfl_chinese_bert_wwm_ext'\n",
    "simcesmodel = './trained_checkpoints/simcse/simcse_model_tao_pure_0.1_epoch_0'\n",
    "trainedmodel = './trained_checkpoints/simcse_bert/simcse2bert_pure_tanh_0'\n",
    "\n",
    "model = modelPipe(basemodel, simcesmodel, trainedmodel)"
   ],
   "metadata": {
    "collapsed": false,
    "ExecuteTime": {
     "end_time": "2024-01-01T03:02:01.402179600Z",
     "start_time": "2024-01-01T03:02:00.043554400Z"
    }
   }
  },
  {
   "cell_type": "code",
   "execution_count": 15,
   "outputs": [
    {
     "name": "stderr",
     "output_type": "stream",
     "text": [
      "C:\\Users\\caitao\\AppData\\Roaming\\Python\\Python39\\site-packages\\transformers\\tokenization_utils_base.py:2636: UserWarning: `max_length` is ignored when `padding`=`True` and there is no truncation strategy. To pad to max length, use `padding='max_length'`.\n",
      "  warnings.warn(\n"
     ]
    },
    {
     "data": {
      "text/plain": "-0.9998640418052673"
     },
     "execution_count": 15,
     "metadata": {},
     "output_type": "execute_result"
    }
   ],
   "source": [
    "# 单句模型推理\n",
    "text1 = \"锅炉\"\n",
    "text2 = \"城市垃圾\"\n",
    "\n",
    "model.pred1(text1, text2).item()"
   ],
   "metadata": {
    "collapsed": false,
    "ExecuteTime": {
     "end_time": "2024-01-01T03:02:02.418711400Z",
     "start_time": "2024-01-01T03:02:02.382635600Z"
    }
   }
  },
  {
   "cell_type": "code",
   "execution_count": 19,
   "outputs": [
    {
     "name": "stderr",
     "output_type": "stream",
     "text": [
      "  0%|          | 0/211 [00:00<?, ?it/s]C:\\Users\\caitao\\AppData\\Roaming\\Python\\Python39\\site-packages\\transformers\\tokenization_utils_base.py:2636: UserWarning: `max_length` is ignored when `padding`=`True` and there is no truncation strategy. To pad to max length, use `padding='max_length'`.\n",
      "  warnings.warn(\n",
      "100%|██████████| 211/211 [00:02<00:00, 98.56it/s] \n"
     ]
    },
    {
     "data": {
      "text/plain": "                          theme  \\\n0        1.4.1 新能源汽车关键零部件制造和产业化   \n1              1.3.6 资源再生利用装备制造   \n2           1.7.4 汽车零部件及机电产品再制造   \n3                6.2.1 能源管理体系建设   \n4               6.3.1 节能评估和能源审计   \n..                          ...   \n206           1.6.2 重点流域海域水环境治理   \n207               4.2.1 天然林资源保护   \n208               4.2.2 动植物资源保护   \n209  5.2.10 货物运输铁路建设运营和铁路节能环保改造   \n210                1.1.1 节能锅炉制造   \n\n                                                detail     score  \n0    包括新能源汽车电池,电机及其控制系统,电附件,插电式混合动力专用发动机,机电耦合系统及能量回...  0.999975  \n1    包括再生金属制造装备，废橡胶,废塑料及轮胎翻新无害化再生利用装备，废旧机电产品无害化再生利用... -0.999996  \n2    包含回收,分拣,拆解,再加工等设施建设运营。工艺,产品等需符合《汽车零部件再制造 分类》（G... -0.999996  \n3    包括能源管理体系咨询服务,能源管理标杆企业信息咨询,能源管理体系建设成效评估,能源管理体系工... -0.999997  \n4    包括用能单位能源效率评估服务,企业节能改造方案设计服务,第三方能源审计服务,节能量评估服务,... -0.999997  \n..                                                 ...       ...  \n206  包括实施七大流域及近岸海域水环境保护与综合治理，开展河湖生态修复，实施太湖,洞庭湖,滇池,巢... -0.999997  \n207  符合《林业资源分类与代码自然保护区》（GB/T 15778）,《森林抚育规程》（GB/T 1... -0.999997  \n208  包括濒危野生动植物抢救性保护,生物多样性保护,渔业资源保护,古树名木保护等，符合《珍稀濒危野... -0.999997  \n209  包括运送货物的铁路及相关场所建设和运营，以及既有铁路电气化改造,铁路场站节能环保改造,铁路设... -0.999997  \n210  包括高低差速循环流化床油页岩锅炉,煤泥循环流化床锅炉,蓄热稳燃高炉煤气锅炉,高效煤粉工业锅炉... -0.999997  \n\n[211 rows x 3 columns]",
      "text/html": "<div>\n<style scoped>\n    .dataframe tbody tr th:only-of-type {\n        vertical-align: middle;\n    }\n\n    .dataframe tbody tr th {\n        vertical-align: top;\n    }\n\n    .dataframe thead th {\n        text-align: right;\n    }\n</style>\n<table border=\"1\" class=\"dataframe\">\n  <thead>\n    <tr style=\"text-align: right;\">\n      <th></th>\n      <th>theme</th>\n      <th>detail</th>\n      <th>score</th>\n    </tr>\n  </thead>\n  <tbody>\n    <tr>\n      <th>0</th>\n      <td>1.4.1 新能源汽车关键零部件制造和产业化</td>\n      <td>包括新能源汽车电池,电机及其控制系统,电附件,插电式混合动力专用发动机,机电耦合系统及能量回...</td>\n      <td>0.999975</td>\n    </tr>\n    <tr>\n      <th>1</th>\n      <td>1.3.6 资源再生利用装备制造</td>\n      <td>包括再生金属制造装备，废橡胶,废塑料及轮胎翻新无害化再生利用装备，废旧机电产品无害化再生利用...</td>\n      <td>-0.999996</td>\n    </tr>\n    <tr>\n      <th>2</th>\n      <td>1.7.4 汽车零部件及机电产品再制造</td>\n      <td>包含回收,分拣,拆解,再加工等设施建设运营。工艺,产品等需符合《汽车零部件再制造 分类》（G...</td>\n      <td>-0.999996</td>\n    </tr>\n    <tr>\n      <th>3</th>\n      <td>6.2.1 能源管理体系建设</td>\n      <td>包括能源管理体系咨询服务,能源管理标杆企业信息咨询,能源管理体系建设成效评估,能源管理体系工...</td>\n      <td>-0.999997</td>\n    </tr>\n    <tr>\n      <th>4</th>\n      <td>6.3.1 节能评估和能源审计</td>\n      <td>包括用能单位能源效率评估服务,企业节能改造方案设计服务,第三方能源审计服务,节能量评估服务,...</td>\n      <td>-0.999997</td>\n    </tr>\n    <tr>\n      <th>...</th>\n      <td>...</td>\n      <td>...</td>\n      <td>...</td>\n    </tr>\n    <tr>\n      <th>206</th>\n      <td>1.6.2 重点流域海域水环境治理</td>\n      <td>包括实施七大流域及近岸海域水环境保护与综合治理，开展河湖生态修复，实施太湖,洞庭湖,滇池,巢...</td>\n      <td>-0.999997</td>\n    </tr>\n    <tr>\n      <th>207</th>\n      <td>4.2.1 天然林资源保护</td>\n      <td>符合《林业资源分类与代码自然保护区》（GB/T 15778）,《森林抚育规程》（GB/T 1...</td>\n      <td>-0.999997</td>\n    </tr>\n    <tr>\n      <th>208</th>\n      <td>4.2.2 动植物资源保护</td>\n      <td>包括濒危野生动植物抢救性保护,生物多样性保护,渔业资源保护,古树名木保护等，符合《珍稀濒危野...</td>\n      <td>-0.999997</td>\n    </tr>\n    <tr>\n      <th>209</th>\n      <td>5.2.10 货物运输铁路建设运营和铁路节能环保改造</td>\n      <td>包括运送货物的铁路及相关场所建设和运营，以及既有铁路电气化改造,铁路场站节能环保改造,铁路设...</td>\n      <td>-0.999997</td>\n    </tr>\n    <tr>\n      <th>210</th>\n      <td>1.1.1 节能锅炉制造</td>\n      <td>包括高低差速循环流化床油页岩锅炉,煤泥循环流化床锅炉,蓄热稳燃高炉煤气锅炉,高效煤粉工业锅炉...</td>\n      <td>-0.999997</td>\n    </tr>\n  </tbody>\n</table>\n<p>211 rows × 3 columns</p>\n</div>"
     },
     "execution_count": 19,
     "metadata": {},
     "output_type": "execute_result"
    }
   ],
   "source": [
    "# 返回相似条目排序\n",
    "raw = pd.read_excel('./sample/green_industry_sim.xlsx')\n",
    "\n",
    "text1 = \"新能源汽车电池拆解回收\"\n",
    "result = pd.DataFrame()\n",
    "\n",
    "for i in tqdm(range(raw.shape[0])):\n",
    "    text2 = raw.iloc[i, 2]\n",
    "    _theme = raw.iloc[i, 0]\n",
    "    _detail = raw.iloc[i, 1]\n",
    "    _score = model.pred1(text1, text2).item()\n",
    "\n",
    "    _d = pd.DataFrame({\n",
    "        'theme': [_theme],\n",
    "        'detail': [_detail],\n",
    "        'score': [_score]\n",
    "    })\n",
    "    result = pd.concat([result, _d])\n",
    "\n",
    "result.sort_values(by='score', ascending=False, inplace=True)\n",
    "result.reset_index(inplace=True, drop=True)\n",
    "result"
   ],
   "metadata": {
    "collapsed": false,
    "ExecuteTime": {
     "end_time": "2024-01-01T05:40:41.152456300Z",
     "start_time": "2024-01-01T05:40:38.967593200Z"
    }
   }
  },
  {
   "cell_type": "code",
   "execution_count": null,
   "outputs": [],
   "source": [],
   "metadata": {
    "collapsed": false
   }
  }
 ],
 "metadata": {
  "kernelspec": {
   "display_name": "Python 3",
   "language": "python",
   "name": "python3"
  },
  "language_info": {
   "codemirror_mode": {
    "name": "ipython",
    "version": 2
   },
   "file_extension": ".py",
   "mimetype": "text/x-python",
   "name": "python",
   "nbconvert_exporter": "python",
   "pygments_lexer": "ipython2",
   "version": "2.7.6"
  }
 },
 "nbformat": 4,
 "nbformat_minor": 0
}
